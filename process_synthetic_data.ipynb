{
 "cells": [
  {
   "cell_type": "code",
   "execution_count": 11,
   "metadata": {},
   "outputs": [],
   "source": [
    "import json\n",
    "import pandas as pd"
   ]
  },
  {
   "cell_type": "code",
   "execution_count": 15,
   "metadata": {},
   "outputs": [],
   "source": [
    "def read_jsonl(file_path):\n",
    "    data = []\n",
    "    with open(file_path, \"r\") as f:\n",
    "        for line in f:\n",
    "            if line.strip():\n",
    "                data.append(json.loads(line))\n",
    "    return data"
   ]
  },
  {
   "cell_type": "code",
   "execution_count": 8,
   "metadata": {},
   "outputs": [],
   "source": [
    "def read_bad_jsonl(file_path):\n",
    "    with open(file_path, 'r') as f:\n",
    "        line = f.readline()\n",
    "        line = line.replace('}{', '},{')\n",
    "        data = json.loads('[' + line + ']')\n",
    "    return data"
   ]
  },
  {
   "cell_type": "code",
   "execution_count": 48,
   "metadata": {},
   "outputs": [],
   "source": [
    "dolly_7b_incite = read_bad_jsonl('/Users/ben/Downloads/synthetic_data/7b_incite_on_dolly.jsonl')\n",
    "dolly_7b_incite_2 = read_jsonl('/Users/ben/Downloads/synthetic_data/7b_incite_on_dolly_2.jsonl')\n",
    "dolly_3b_incite = read_jsonl('/Users/ben/Downloads/synthetic_data/3b_incite_on_dolly.jsonl')\n",
    "dolly_3b_incite_2 = read_jsonl('/Users/ben/Downloads/synthetic_data/3b_incite_on_dolly_2.jsonl')"
   ]
  },
  {
   "cell_type": "code",
   "execution_count": 49,
   "metadata": {},
   "outputs": [],
   "source": [
    "combined = {}\n",
    "for batch in dolly_7b_incite:\n",
    "    prompt = batch['prompt']\n",
    "    response = batch['response'].split(\"\\n\\n\")[0].strip()\n",
    "    if prompt in combined:\n",
    "        combined[prompt].append(response)\n",
    "    else:\n",
    "        combined[prompt] = [response]\n",
    "\n",
    "for batch in dolly_7b_incite_2:\n",
    "    prompt = batch['prompt']\n",
    "    response = batch['response'].split(\"\\n\\n\")[0].strip()\n",
    "    if prompt in combined:\n",
    "        combined[prompt].append(response)\n",
    "    else:\n",
    "        combined[prompt] = [response]\n",
    "\n",
    "for batch in dolly_3b_incite:\n",
    "    prompt = batch['prompt']\n",
    "    response = batch['response'].split(\"\\n\\n\")[0].strip()\n",
    "    if prompt in combined:\n",
    "        combined[prompt].append(response)\n",
    "    else:\n",
    "        combined[prompt] = [response]\n",
    "\n",
    "for batch in dolly_3b_incite_2:\n",
    "    prompt = batch['prompt']\n",
    "    response = batch['response'].split(\"\\n\\n\")[0].strip()\n",
    "    if prompt in combined:\n",
    "        combined[prompt].append(response)\n",
    "    else:\n",
    "        combined[prompt] = [response]"
   ]
  },
  {
   "cell_type": "code",
   "execution_count": 51,
   "metadata": {},
   "outputs": [
    {
     "data": {
      "text/plain": [
       "96"
      ]
     },
     "execution_count": 51,
     "metadata": {},
     "output_type": "execute_result"
    }
   ],
   "source": [
    "max(len(v) for v in combined.values())"
   ]
  },
  {
   "cell_type": "code",
   "execution_count": 33,
   "metadata": {},
   "outputs": [
    {
     "data": {
      "text/plain": [
       "16"
      ]
     },
     "execution_count": 33,
     "metadata": {},
     "output_type": "execute_result"
    }
   ],
   "source": [
    "sum(merged['prompt1'] == merged['prompt2'])"
   ]
  },
  {
   "cell_type": "code",
   "execution_count": null,
   "metadata": {},
   "outputs": [],
   "source": []
  }
 ],
 "metadata": {
  "kernelspec": {
   "display_name": "nlp",
   "language": "python",
   "name": "python3"
  },
  "language_info": {
   "codemirror_mode": {
    "name": "ipython",
    "version": 3
   },
   "file_extension": ".py",
   "mimetype": "text/x-python",
   "name": "python",
   "nbconvert_exporter": "python",
   "pygments_lexer": "ipython3",
   "version": "3.10.8"
  },
  "orig_nbformat": 4
 },
 "nbformat": 4,
 "nbformat_minor": 2
}
